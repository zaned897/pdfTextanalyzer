{
 "cells": [
  {
   "cell_type": "code",
   "execution_count": null,
   "metadata": {},
   "outputs": [],
   "source": [
    "import lossrun\n",
    "import matplotlib.pyplot as plt\n",
    "#import lossrun_models"
   ]
  },
  {
   "cell_type": "code",
   "execution_count": null,
   "metadata": {},
   "outputs": [],
   "source": [
    "pdf_file = '1-5-18 GH Loss Runs'\n",
    "\n",
    "# topic files\n",
    "topic_file = './data/configuration/config_topics_beta.ino'\n",
    "\n",
    "# Pre proc data\n",
    "txt_dict, topics, image, image_c = lossrun.pre_proc(pdf_file, 'data', topic_file)\n",
    "\n",
    "# vizualizate data\n",
    "plt.figure(figsize=(23,20))\n",
    "# Orignial data\n",
    "plt.imshow(image)\n",
    "# Orignial data"
   ]
  },
  {
   "cell_type": "code",
   "execution_count": 4,
   "metadata": {},
   "outputs": [
    {
     "output_type": "execute_result",
     "data": {
      "text/plain": [
       "['1-5-18 GH Loss Runs.pdf']"
      ]
     },
     "metadata": {},
     "execution_count": 4
    }
   ],
   "source": [
    "#check changes in dorectory\n",
    "import lossrun\n",
    "root = './data/pdfs/'\n",
    "log_file = 'log_file.txt'\n",
    "\n",
    "#try:\n",
    "#    _file = open(log_file, \"w\")\n",
    "#except:\n",
    "#    print('could not create the)\n",
    "\n",
    "\n",
    "\n",
    "modified = lossrun.update_files_in_path(root='./data/pdfs/', log_file= 'log_file.txt')\n",
    "modified"
   ]
  },
  {
   "cell_type": "code",
   "execution_count": null,
   "metadata": {},
   "outputs": [],
   "source": [
    "lista = ['This', 'is', 'a', 'list']\n",
    "\n",
    "_file = open(log_file, \"r+\")"
   ]
  }
 ],
 "metadata": {
  "kernelspec": {
   "display_name": "Python 3",
   "language": "python",
   "name": "python3"
  },
  "language_info": {
   "codemirror_mode": {
    "name": "ipython",
    "version": 3
   },
   "file_extension": ".py",
   "mimetype": "text/x-python",
   "name": "python",
   "nbconvert_exporter": "python",
   "pygments_lexer": "ipython3",
   "version": "3.8.2-final"
  }
 },
 "nbformat": 4,
 "nbformat_minor": 2
}